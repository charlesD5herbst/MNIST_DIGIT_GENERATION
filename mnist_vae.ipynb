{
 "cells": [
  {
   "cell_type": "code",
   "execution_count": null,
   "id": "363612ef",
   "metadata": {},
   "outputs": [],
   "source": [
    "import tensorflow as tf\n",
    "import numpy as np\n",
    "from tqdm import tqdm\n",
    "import os\n",
    "import matplotlib.pyplot as plt\n",
    "from mpl_toolkits import mplot3d\n",
    "import PIL\n",
    "\n",
    "\n",
    "(x_train, y_train), (x_test, y_test) = tf.keras.datasets.mnist.load_data()\n",
    "train_images = np.expand_dims(x_train, -1).astype(\"float32\") / 255\n",
    "train_images = train_images.reshape(-1, 28, 28, 1)\n",
    "\n",
    "\n"
   ]
  },
  {
   "cell_type": "markdown",
   "id": "918e106b",
   "metadata": {},
   "source": [
    "#### Instantiate VAE and Checkpoint path"
   ]
  },
  {
   "cell_type": "code",
   "execution_count": null,
   "id": "e000c0ad",
   "metadata": {},
   "outputs": [],
   "source": [
    "checkpoint_path = '/Users/charlherbst/Charl/training_1/cp.ckpt'\n",
    "checkpoint_dir = os.path.dirname(checkpoint_path)\n",
    "\n",
    "# Create a callback that saves the model's weights\n",
    "cp_callback = tf.keras.callbacks.ModelCheckpoint(filepath=checkpoint_path,\n",
    "                                                 save_weights_only=True,\n",
    "                                                 verbose=1)\n",
    "vae = VAE(dim_z=latent_dim)\n"
   ]
  },
  {
   "cell_type": "markdown",
   "id": "d02085b1",
   "metadata": {},
   "source": [
    "#### Training"
   ]
  },
  {
   "cell_type": "code",
   "execution_count": null,
   "id": "ad5ce091",
   "metadata": {},
   "outputs": [],
   "source": [
    "latent_dim = 8\n",
    "lr = 0.0005\n",
    "batch_size = 64\n",
    "epochs = 40\n",
    "vae.compile(optimizer=tf.keras.optimizers.Adam(learning_rate=lr),loss=vae_loss)\n",
    "train_history = vae.fit(x=train_images,y=train_images,batch_size=batch_size,\n",
    "                        epochs=epochs, verbose=1, shuffle=True, callbacks = cp_callback)"
   ]
  },
  {
   "cell_type": "markdown",
   "id": "d59ab1d5",
   "metadata": {},
   "source": [
    "#### Visualise reconstruction loss"
   ]
  },
  {
   "cell_type": "code",
   "execution_count": null,
   "id": "941db603",
   "metadata": {},
   "outputs": [],
   "source": [
    "plt.plot(train_history.history['loss'])"
   ]
  },
  {
   "cell_type": "markdown",
   "id": "cd896d78",
   "metadata": {},
   "source": [
    "#### Instantiate new VAE and load weights"
   ]
  },
  {
   "cell_type": "code",
   "execution_count": null,
   "id": "a0bb68a8",
   "metadata": {},
   "outputs": [],
   "source": [
    "os.listdir(checkpoint_dir)\n",
    "latent_dim = 8\n",
    "vae = VAE(dim_z=latent_dim)\n",
    "vae.load_weights(checkpoint_path)\n",
    "_,image_encodings,_ = vae.encoder(train_images)\n"
   ]
  },
  {
   "cell_type": "markdown",
   "id": "810fdd9b",
   "metadata": {},
   "source": [
    "#### Visualise latent encodings"
   ]
  },
  {
   "cell_type": "code",
   "execution_count": null,
   "id": "3766b8de",
   "metadata": {},
   "outputs": [],
   "source": [
    "fig = plt.figure(figsize = (10, 7))\n",
    "ax = plt.axes(projection =\"3d\")\n",
    "ax.scatter3D(image_encodings[:, 0], image_encodings[:, 1], image_encodings[:, 2], color = \"blue\")\n",
    "plt.xlabel(\"z[0]\")\n",
    "plt.ylabel(\"z[1]\")\n",
    "plt.title(\"Image encodings in 3D of 10 MNIST digits\")\n",
    "plt.show()"
   ]
  },
  {
   "cell_type": "markdown",
   "id": "10833eaa",
   "metadata": {},
   "source": [
    "#### Visualise data reconstruction"
   ]
  },
  {
   "cell_type": "code",
   "execution_count": null,
   "id": "24828f45",
   "metadata": {},
   "outputs": [],
   "source": [
    "image_decodings = vae.decoder(image_encodings)\n",
    "image_decodings = np.reshape(np.array(image_decodings),input_data.shape)\n",
    "\n",
    "plt.figure\n",
    "plt.axis('off')\n",
    "plt.imshow(image_decodings[0])\n",
    "plt.show()"
   ]
  }
 ],
 "metadata": {
  "kernelspec": {
   "display_name": "Python [conda env:DEEPLABCUT_M1] *",
   "language": "python",
   "name": "conda-env-DEEPLABCUT_M1-py"
  },
  "language_info": {
   "codemirror_mode": {
    "name": "ipython",
    "version": 3
   },
   "file_extension": ".py",
   "mimetype": "text/x-python",
   "name": "python",
   "nbconvert_exporter": "python",
   "pygments_lexer": "ipython3",
   "version": "3.7.12"
  }
 },
 "nbformat": 4,
 "nbformat_minor": 5
}
